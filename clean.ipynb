{
 "cells": [
  {
   "attachments": {},
   "cell_type": "markdown",
   "metadata": {},
   "source": [
    "# Clean Data"
   ]
  },
  {
   "attachments": {},
   "cell_type": "markdown",
   "metadata": {},
   "source": [
    "## Import Thư viện"
   ]
  },
  {
   "cell_type": "code",
   "execution_count": 1,
   "metadata": {},
   "outputs": [],
   "source": [
    "import pandas as pd"
   ]
  },
  {
   "attachments": {},
   "cell_type": "markdown",
   "metadata": {},
   "source": [
    "## Đọc file csv"
   ]
  },
  {
   "cell_type": "code",
   "execution_count": 2,
   "metadata": {},
   "outputs": [],
   "source": [
    "# đọc file data\n",
    "df=pd.read_csv('raw_data.csv')"
   ]
  },
  {
   "attachments": {},
   "cell_type": "markdown",
   "metadata": {},
   "source": [
    "## Hiển thị kiểu dữ liệu"
   ]
  },
  {
   "cell_type": "code",
   "execution_count": 3,
   "metadata": {},
   "outputs": [
    {
     "name": "stdout",
     "output_type": "stream",
     "text": [
      "<class 'pandas.core.frame.DataFrame'>\n",
      "RangeIndex: 9999 entries, 0 to 9998\n",
      "Data columns (total 12 columns):\n",
      " #   Column         Non-Null Count  Dtype  \n",
      "---  ------         --------------  -----  \n",
      " 0   title          9999 non-null   object \n",
      " 1   author         9999 non-null   object \n",
      " 2   language       9788 non-null   object \n",
      " 3   avg_ratings    9999 non-null   float64\n",
      " 4   ratings_count  9999 non-null   object \n",
      " 5   reviews_count  9999 non-null   object \n",
      " 6   publisher      9627 non-null   object \n",
      " 7   publish_year   9938 non-null   float64\n",
      " 8   num_pages      9875 non-null   float64\n",
      " 9   page_format    9955 non-null   object \n",
      " 10  genres         9999 non-null   object \n",
      " 11  link           9999 non-null   object \n",
      "dtypes: float64(3), object(9)\n",
      "memory usage: 937.5+ KB\n",
      "None\n"
     ]
    }
   ],
   "source": [
    "# mô tả các thống kê tổng quan về tập dữ liệu\n",
    "print(df.info())"
   ]
  },
  {
   "attachments": {},
   "cell_type": "markdown",
   "metadata": {},
   "source": [
    "=> ratings_count và reviews_count sai định dạng"
   ]
  },
  {
   "attachments": {},
   "cell_type": "markdown",
   "metadata": {},
   "source": [
    "## Clean data"
   ]
  },
  {
   "cell_type": "code",
   "execution_count": 4,
   "metadata": {},
   "outputs": [],
   "source": [
    "# Dữ liệu của hai cột ratings_count và reviews_count là dạng int và trong dữ liệu có dấu phẩy nên sai định dạng\n",
    "df['ratings_count'] = df['ratings_count'].apply(lambda x: int(x.replace(',', '')))\n",
    "df['reviews_count'] = df['reviews_count'].apply(lambda x: int(x.replace(',', '')))"
   ]
  },
  {
   "attachments": {},
   "cell_type": "markdown",
   "metadata": {},
   "source": [
    "## Ghi lại dữ liệu đã clean vào file data_10000.csv"
   ]
  },
  {
   "cell_type": "code",
   "execution_count": 5,
   "metadata": {},
   "outputs": [],
   "source": [
    "# ghi lại vào file data clean csv\n",
    "df.to_csv(\"./data_10000.csv\", index=False)"
   ]
  }
 ],
 "metadata": {
  "kernelspec": {
   "display_name": "Python 3",
   "language": "python",
   "name": "python3"
  },
  "language_info": {
   "codemirror_mode": {
    "name": "ipython",
    "version": 3
   },
   "file_extension": ".py",
   "mimetype": "text/x-python",
   "name": "python",
   "nbconvert_exporter": "python",
   "pygments_lexer": "ipython3",
   "version": "3.11.2"
  },
  "orig_nbformat": 4
 },
 "nbformat": 4,
 "nbformat_minor": 2
}
