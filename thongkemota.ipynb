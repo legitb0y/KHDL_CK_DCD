{
 "cells": [
  {
   "cell_type": "code",
   "execution_count": null,
   "metadata": {},
   "outputs": [],
   "source": [
    "import seaborn as sns\n",
    "import pandas as pd\n",
    "import numpy as np\n",
    "import matplotlib.pyplot as plt\n"
   ]
  },
  {
   "attachments": {},
   "cell_type": "markdown",
   "metadata": {},
   "source": [
    "## Thống kê"
   ]
  },
  {
   "cell_type": "code",
   "execution_count": null,
   "metadata": {},
   "outputs": [],
   "source": [
    "# đọc file data\n",
    "df=pd.read_csv('raw_data.csv')\n",
    "df = df.drop(\"link\", axis=1)"
   ]
  },
  {
   "attachments": {},
   "cell_type": "markdown",
   "metadata": {},
   "source": [
    "### Số rows, columns"
   ]
  },
  {
   "cell_type": "code",
   "execution_count": null,
   "metadata": {},
   "outputs": [],
   "source": [
    "# mô tả các thống kê tổng quan về tập dữ liệu\n",
    "print(df.info())"
   ]
  },
  {
   "attachments": {},
   "cell_type": "markdown",
   "metadata": {},
   "source": [
    "### Missing data"
   ]
  },
  {
   "cell_type": "code",
   "execution_count": null,
   "metadata": {},
   "outputs": [],
   "source": [
    "# Tạo một series chứa số lượng dữ liệu trống của từng cột\n",
    "missing_data = df.isnull().sum()\n",
    "\n",
    "# Tạo biểu đồ cột\n",
    "plt.figure(figsize=(20, 12))\n",
    "missing_data.plot(kind='bar')\n",
    "plt.title('Số lượng dữ liệu trống của từng cột')\n",
    "plt.xlabel('Đặc trưng')\n",
    "plt.ylabel('Số lượng dữ liệu trống')\n",
    "plt.xticks(rotation=45)\n",
    "\n",
    "# Thêm số trên đỉnh của mỗi cột\n",
    "for i, value in enumerate(missing_data):\n",
    "    plt.annotate(str(value), xy=(i, value), ha='center', va='bottom')\n",
    "\n",
    "plt.show()"
   ]
  },
  {
   "attachments": {},
   "cell_type": "markdown",
   "metadata": {},
   "source": [
    "## Mô tả dữ liệu"
   ]
  },
  {
   "attachments": {},
   "cell_type": "markdown",
   "metadata": {},
   "source": [
    "### Phân bố dữ liệu của trường dự đoán avg_ratings"
   ]
  },
  {
   "cell_type": "code",
   "execution_count": null,
   "metadata": {},
   "outputs": [],
   "source": [
    "# Vẽ biểu đồ phân bố của biến 'avg_rating'\n",
    "plt.figure(figsize=(10, 6))\n",
    "sns.histplot(data=df, x='avg_ratings', kde=True)\n",
    "plt.title('Phân bố của trường dự đoán avg_rating')\n",
    "plt.xlabel('Mức đán giá trung bình')\n",
    "plt.ylabel('Số lượng sách')\n",
    "plt.show()"
   ]
  },
  {
   "attachments": {},
   "cell_type": "markdown",
   "metadata": {},
   "source": [
    "- Nhận xét"
   ]
  },
  {
   "attachments": {},
   "cell_type": "markdown",
   "metadata": {},
   "source": [
    "### độ tương quan giữa avg_ratings với các biến ratings_count, review_count, publish_year, nums_page"
   ]
  },
  {
   "cell_type": "code",
   "execution_count": null,
   "metadata": {},
   "outputs": [],
   "source": [
    "fig, ax = plt.subplots(1, 4, figsize=(20,10))\n",
    "\n",
    "ax1 = plt.subplot(141)\n",
    "ax1 = sns.regplot(data=df, y='avg_ratings', x='ratings_count')\n",
    "ax2 = plt.subplot(142)\n",
    "ax2 = sns.regplot(data=df, y='avg_ratings', x='reviews_count')\n",
    "ax3 = plt.subplot(143)\n",
    "ax3 = sns.regplot(data=df, y='avg_ratings', x='publish_year')\n",
    "ax4 = plt.subplot(144)\n",
    "ax4 = sns.regplot(data=df, y='avg_ratings', x='num_pages')\n",
    "plt.tight_layout()"
   ]
  },
  {
   "attachments": {},
   "cell_type": "markdown",
   "metadata": {},
   "source": [
    "- tất cả biếu đồ đề có sự tương quan dương giữa các biến với avg_ratings, tuy nhiên các biến có độ tương qua khá thấp với biến num_page có độ tương quan dương cao nhất"
   ]
  },
  {
   "attachments": {},
   "cell_type": "markdown",
   "metadata": {},
   "source": [
    "###\tTương quan giữa cột số lượng của ngôn ngữ so với avg_rating"
   ]
  },
  {
   "cell_type": "code",
   "execution_count": null,
   "metadata": {},
   "outputs": [],
   "source": [
    "# Tạo danh sách các ngôn ngữ và số lượng tương ứng\n",
    "languages = df['language'].value_counts().index.tolist()\n",
    "counts = df['language'].value_counts().values.tolist()\n",
    "# Vẽ biểu đồ tròn\n",
    "plt.pie(counts, labels=languages, autopct='%1.1f%%')\n",
    "# Đặt tiêu đề\n",
    "plt.title(\"Tỉ lệ từng ngôn ngữ\")\n",
    "# Hiển thị biểu đồ\n",
    "plt.show()"
   ]
  },
  {
   "cell_type": "code",
   "execution_count": null,
   "metadata": {},
   "outputs": [],
   "source": [
    "# tạo đặc trưng mới\n",
    "df['count_books_by_language'] = df.groupby('language')['language'].transform('count')\n",
    "# Vẽ biểu đồ tương quan với sns.regplot()\n",
    "plt.figure(figsize=(10, 6))\n",
    "sns.regplot(data=df, y='avg_ratings', x='count_books_by_language')\n",
    "plt.title('Tương quan giữa số lượng của một ngôn ngữ và Trung bình đánh giá')\n",
    "plt.xlabel('số lượng của một ngôn ngữ')\n",
    "plt.ylabel('Trung bình đánh giá')\n",
    "\n",
    "plt.show()"
   ]
  },
  {
   "attachments": {},
   "cell_type": "markdown",
   "metadata": {},
   "source": [
    "- Ngôn ngữ English chiếm 96.1% và thông qua biểu đồ scatter plot  thấy có thể thấy biến languae không có sự tương quan với avg_rating \n",
    "\n",
    "=> không sử dụng cột language\n"
   ]
  },
  {
   "attachments": {},
   "cell_type": "markdown",
   "metadata": {},
   "source": [
    "### Tương quan giữa biến avg_ratings và số lượng sách của tác giả "
   ]
  },
  {
   "cell_type": "code",
   "execution_count": null,
   "metadata": {},
   "outputs": [],
   "source": [
    "# tạo đặc trưng mới\n",
    "df['count_books_by_author'] = df.groupby('author')['author'].transform('count')\n",
    "# Vẽ biểu đồ tương quan với sns.regplot()\n",
    "plt.figure(figsize=(10, 10))\n",
    "sns.regplot(data=df, y='avg_ratings', x='count_books_by_author')\n",
    "plt.title('Tương quan giữa số lượng sách phát hành của tác giả và Trung bình đánh giá')\n",
    "plt.xlabel('Số lượng sách phát hành của tác giả')\n",
    "plt.ylabel('Trung bình đánh giá')\n",
    "plt.show()"
   ]
  },
  {
   "attachments": {},
   "cell_type": "markdown",
   "metadata": {},
   "source": [
    "- Tạo biến từ số lượng sách của một tác giả ta thấy biểu đồ scatter plot có sự tương quan dương giứa số lượng sách của một tác giả và biến dự đoán \n",
    "=> ta có thể sử dụng biến làm đặc trưng mới để dự đoán."
   ]
  }
 ],
 "metadata": {
  "kernelspec": {
   "display_name": "Python 3.10.7 64-bit",
   "language": "python",
   "name": "python3"
  },
  "language_info": {
   "codemirror_mode": {
    "name": "ipython",
    "version": 3
   },
   "file_extension": ".py",
   "mimetype": "text/x-python",
   "name": "python",
   "nbconvert_exporter": "python",
   "pygments_lexer": "ipython3",
   "version": "3.11.2"
  },
  "orig_nbformat": 4,
  "vscode": {
   "interpreter": {
    "hash": "a42ccb73e7d9bfdf27e036f1d2b8b681e55fc0743cc5586bc2474d4a60f4b886"
   }
  }
 },
 "nbformat": 4,
 "nbformat_minor": 2
}
