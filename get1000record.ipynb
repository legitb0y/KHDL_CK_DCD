{
 "cells": [
  {
   "attachments": {},
   "cell_type": "markdown",
   "metadata": {},
   "source": [
    "# Import thư viện"
   ]
  },
  {
   "cell_type": "code",
   "execution_count": 1,
   "metadata": {},
   "outputs": [
    {
     "data": {
      "text/html": [
       "<div>\n",
       "<style scoped>\n",
       "    .dataframe tbody tr th:only-of-type {\n",
       "        vertical-align: middle;\n",
       "    }\n",
       "\n",
       "    .dataframe tbody tr th {\n",
       "        vertical-align: top;\n",
       "    }\n",
       "\n",
       "    .dataframe thead th {\n",
       "        text-align: right;\n",
       "    }\n",
       "</style>\n",
       "<table border=\"1\" class=\"dataframe\">\n",
       "  <thead>\n",
       "    <tr style=\"text-align: right;\">\n",
       "      <th></th>\n",
       "      <th>title</th>\n",
       "      <th>author</th>\n",
       "      <th>language</th>\n",
       "      <th>avg_ratings</th>\n",
       "      <th>ratings_count</th>\n",
       "      <th>reviews_count</th>\n",
       "      <th>publisher</th>\n",
       "      <th>publish_year</th>\n",
       "      <th>num_pages</th>\n",
       "      <th>page_format</th>\n",
       "      <th>genres</th>\n",
       "      <th>link</th>\n",
       "    </tr>\n",
       "  </thead>\n",
       "  <tbody>\n",
       "    <tr>\n",
       "      <th>0</th>\n",
       "      <td>The Hunger Games</td>\n",
       "      <td>Suzanne Collins</td>\n",
       "      <td>English</td>\n",
       "      <td>4.33</td>\n",
       "      <td>7,971,601</td>\n",
       "      <td>196,977</td>\n",
       "      <td>Scholastic Press</td>\n",
       "      <td>2008.0</td>\n",
       "      <td>374.0</td>\n",
       "      <td>Hardcover</td>\n",
       "      <td>['Young Adult', 'Fiction', 'Dystopia', 'Fantas...</td>\n",
       "      <td>https://www.goodreads.com/book/show/2767052-th...</td>\n",
       "    </tr>\n",
       "    <tr>\n",
       "      <th>1</th>\n",
       "      <td>Harry Potter and the Order of the Phoenix</td>\n",
       "      <td>J.K. Rowling</td>\n",
       "      <td>English</td>\n",
       "      <td>4.50</td>\n",
       "      <td>3,150,618</td>\n",
       "      <td>57,202</td>\n",
       "      <td>Scholastic Inc.</td>\n",
       "      <td>2004.0</td>\n",
       "      <td>912.0</td>\n",
       "      <td>Paperback</td>\n",
       "      <td>['Fantasy', 'Young Adult', 'Fiction', 'Magic',...</td>\n",
       "      <td>https://www.goodreads.com/book/show/2.Harry_Po...</td>\n",
       "    </tr>\n",
       "    <tr>\n",
       "      <th>2</th>\n",
       "      <td>Pride and Prejudice</td>\n",
       "      <td>Jane Austen</td>\n",
       "      <td>English</td>\n",
       "      <td>4.28</td>\n",
       "      <td>3,948,185</td>\n",
       "      <td>100,606</td>\n",
       "      <td>Modern Library</td>\n",
       "      <td>2000.0</td>\n",
       "      <td>279.0</td>\n",
       "      <td>Paperback</td>\n",
       "      <td>['Classics', 'Fiction', 'Romance', 'Historical...</td>\n",
       "      <td>https://www.goodreads.com/book/show/1885.Pride...</td>\n",
       "    </tr>\n",
       "    <tr>\n",
       "      <th>3</th>\n",
       "      <td>To Kill a Mockingbird</td>\n",
       "      <td>Harper Lee</td>\n",
       "      <td>English</td>\n",
       "      <td>4.27</td>\n",
       "      <td>5,696,477</td>\n",
       "      <td>110,338</td>\n",
       "      <td>Harper Perennial Modern Classics</td>\n",
       "      <td>2006.0</td>\n",
       "      <td>323.0</td>\n",
       "      <td>Paperback</td>\n",
       "      <td>['Classics', 'Fiction', 'Historical Fiction', ...</td>\n",
       "      <td>https://www.goodreads.com/book/show/2657.To_Ki...</td>\n",
       "    </tr>\n",
       "    <tr>\n",
       "      <th>4</th>\n",
       "      <td>The Book Thief</td>\n",
       "      <td>Markus Zusak</td>\n",
       "      <td>English</td>\n",
       "      <td>4.39</td>\n",
       "      <td>2,367,106</td>\n",
       "      <td>136,148</td>\n",
       "      <td>Alfred A. Knopf</td>\n",
       "      <td>2006.0</td>\n",
       "      <td>552.0</td>\n",
       "      <td>Hardcover</td>\n",
       "      <td>['Historical Fiction', 'Fiction', 'Young Adult...</td>\n",
       "      <td>https://www.goodreads.com/book/show/19063.The_...</td>\n",
       "    </tr>\n",
       "  </tbody>\n",
       "</table>\n",
       "</div>"
      ],
      "text/plain": [
       "                                       title           author language  \\\n",
       "0                           The Hunger Games  Suzanne Collins  English   \n",
       "1  Harry Potter and the Order of the Phoenix     J.K. Rowling  English   \n",
       "2                        Pride and Prejudice      Jane Austen  English   \n",
       "3                      To Kill a Mockingbird       Harper Lee  English   \n",
       "4                             The Book Thief     Markus Zusak  English   \n",
       "\n",
       "   avg_ratings ratings_count reviews_count                          publisher  \\\n",
       "0         4.33     7,971,601       196,977                   Scholastic Press   \n",
       "1         4.50     3,150,618        57,202                    Scholastic Inc.   \n",
       "2         4.28     3,948,185       100,606                     Modern Library   \n",
       "3         4.27     5,696,477       110,338  Harper Perennial Modern Classics    \n",
       "4         4.39     2,367,106       136,148                    Alfred A. Knopf   \n",
       "\n",
       "   publish_year  num_pages page_format  \\\n",
       "0        2008.0      374.0   Hardcover   \n",
       "1        2004.0      912.0   Paperback   \n",
       "2        2000.0      279.0   Paperback   \n",
       "3        2006.0      323.0   Paperback   \n",
       "4        2006.0      552.0   Hardcover   \n",
       "\n",
       "                                              genres  \\\n",
       "0  ['Young Adult', 'Fiction', 'Dystopia', 'Fantas...   \n",
       "1  ['Fantasy', 'Young Adult', 'Fiction', 'Magic',...   \n",
       "2  ['Classics', 'Fiction', 'Romance', 'Historical...   \n",
       "3  ['Classics', 'Fiction', 'Historical Fiction', ...   \n",
       "4  ['Historical Fiction', 'Fiction', 'Young Adult...   \n",
       "\n",
       "                                                link  \n",
       "0  https://www.goodreads.com/book/show/2767052-th...  \n",
       "1  https://www.goodreads.com/book/show/2.Harry_Po...  \n",
       "2  https://www.goodreads.com/book/show/1885.Pride...  \n",
       "3  https://www.goodreads.com/book/show/2657.To_Ki...  \n",
       "4  https://www.goodreads.com/book/show/19063.The_...  "
      ]
     },
     "execution_count": 1,
     "metadata": {},
     "output_type": "execute_result"
    }
   ],
   "source": [
    "import pandas as pd\n",
    "df=pd.read_csv('data_last.csv')\n",
    "df.head()"
   ]
  },
  {
   "attachments": {},
   "cell_type": "markdown",
   "metadata": {},
   "source": [
    "# Dữ liệu trống"
   ]
  },
  {
   "cell_type": "code",
   "execution_count": 3,
   "metadata": {},
   "outputs": [
    {
     "data": {
      "text/plain": [
       "title              0\n",
       "author             0\n",
       "language         211\n",
       "avg_ratings        0\n",
       "ratings_count      0\n",
       "reviews_count      0\n",
       "publisher        372\n",
       "publish_year      61\n",
       "num_pages        124\n",
       "page_format       44\n",
       "genres             0\n",
       "link               0\n",
       "dtype: int64"
      ]
     },
     "execution_count": 3,
     "metadata": {},
     "output_type": "execute_result"
    }
   ],
   "source": [
    "df.isnull().sum()"
   ]
  },
  {
   "cell_type": "code",
   "execution_count": 12,
   "metadata": {},
   "outputs": [],
   "source": [
    "from sklearn.model_selection import train_test_split\n",
    "a,b=train_test_split(df,test_size=0.1, random_state=0)"
   ]
  },
  {
   "cell_type": "code",
   "execution_count": 14,
   "metadata": {},
   "outputs": [
    {
     "data": {
      "text/plain": [
       "1000"
      ]
     },
     "execution_count": 14,
     "metadata": {},
     "output_type": "execute_result"
    }
   ],
   "source": [
    "num_rows = b.shape[0]\n",
    "num_rows"
   ]
  },
  {
   "cell_type": "code",
   "execution_count": null,
   "metadata": {},
   "outputs": [],
   "source": [
    "b.to_csv('data_1000.csv', index=False)"
   ]
  }
 ],
 "metadata": {
  "kernelspec": {
   "display_name": "Python 3",
   "language": "python",
   "name": "python3"
  },
  "language_info": {
   "codemirror_mode": {
    "name": "ipython",
    "version": 3
   },
   "file_extension": ".py",
   "mimetype": "text/x-python",
   "name": "python",
   "nbconvert_exporter": "python",
   "pygments_lexer": "ipython3",
   "version": "3.11.2"
  },
  "orig_nbformat": 4
 },
 "nbformat": 4,
 "nbformat_minor": 2
}
